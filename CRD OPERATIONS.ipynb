{
 "cells": [
  {
   "cell_type": "markdown",
   "metadata": {},
   "source": [
    "# IMPORT STATEMENTS"
   ]
  },
  {
   "cell_type": "code",
   "execution_count": 14,
   "metadata": {},
   "outputs": [],
   "source": [
    "import threading \n",
    "from threading import*\n",
    "import time"
   ]
  },
  {
   "cell_type": "code",
   "execution_count": 15,
   "metadata": {},
   "outputs": [],
   "source": [
    "di={}"
   ]
  },
  {
   "cell_type": "markdown",
   "metadata": {},
   "source": [
    "# CREATE OPERATION"
   ]
  },
  {
   "cell_type": "code",
   "execution_count": 16,
   "metadata": {},
   "outputs": [],
   "source": [
    "def create(key,value,timeout=0):\n",
    "    if key in di:\n",
    "        print(\"THIS KEY IS ALREADY THERE!!!! ERROR IT IS \")\n",
    "    else:\n",
    "        if(key.isalpha()):\n",
    "            if len(di)<(1024*1020*1024) and value<=(16*1024*1024):  \n",
    "                if timeout==0:\n",
    "                    l=[value,timeout]\n",
    "                else:\n",
    "                    l=[value,time.time()+timeout]\n",
    "                if len(key)<=32: \n",
    "                    di[key]=l\n",
    "            else:\n",
    "                print(\"MEMORY LIMIT EXCEEDED!!! ERROR IT IS \")\n",
    "        else:\n",
    "            print(\" INVALID KEYNAME!! ONLY ALPHABETS NO NUMBERS AND CHARECTERS !! ERROR IT IS\" )"
   ]
  },
  {
   "cell_type": "markdown",
   "metadata": {},
   "source": [
    "# READ OPERATION"
   ]
  },
  {
   "cell_type": "code",
   "execution_count": 17,
   "metadata": {},
   "outputs": [],
   "source": [
    "def read(key):\n",
    "    if key not in di:\n",
    "        print(\"KEY NOT FOUND IN DATABASE!! ENTER VALID KEY\") \n",
    "    else:\n",
    "        b=di[key]\n",
    "        if b[1]!=0:\n",
    "            if time.time()<b[1]: \n",
    "                stri=str(key)+\":\"+str(b[0])\n",
    "                return stri\n",
    "            else:\n",
    "                print(\"ERROR: TIME-TO-LIVE OF\",key,\"HAS EXPIRED\") \n",
    "        else:\n",
    "            stri=str(key)+\":\"+str(b[0])\n",
    "            return stri\n"
   ]
  },
  {
   "cell_type": "markdown",
   "metadata": {},
   "source": [
    "# DELETE OPERATION"
   ]
  },
  {
   "cell_type": "code",
   "execution_count": 18,
   "metadata": {},
   "outputs": [],
   "source": [
    "def delete(key):\n",
    "    if key not in di:\n",
    "        print(\"KEY NOT FOUND IN DATABASE!! ENTER VALID KEY\")\n",
    "    else:\n",
    "        b=di[key]\n",
    "        if b[1]!=0:\n",
    "            if time.time()<b[1]: \n",
    "                del di[key]\n",
    "                print(\"KEY IS DELETED\")\n",
    "            else:\n",
    "                print(\"ERROR: TIME-TO-LIVE OF\",key,\"HAS EXPIRED\") \n",
    "        else:\n",
    "            del di[key]\n",
    "            print(\"KEY IS DELETED\")"
   ]
  },
  {
   "cell_type": "markdown",
   "metadata": {},
   "source": [
    "# MODIFY OPERATION"
   ]
  },
  {
   "cell_type": "code",
   "execution_count": 19,
   "metadata": {},
   "outputs": [],
   "source": [
    "def modify(key,value):\n",
    "    b=di[key]\n",
    "    if b[1]!=0:\n",
    "        if time.time()<b[1]:\n",
    "            if key not in di:\n",
    "                print(\"KEY NOT FOUND IN DATABASE!! ENTER VALID KEY\") \n",
    "            else:\n",
    "                l=[]\n",
    "                l.append(value)\n",
    "                l.append(b[1])\n",
    "                di[key]=l\n",
    "        else:\n",
    "            print(\"ERROR: TIME-TO-LIVE OF\",key,\"HAS EXPIRED\") \n",
    "    else:\n",
    "        if key not in di:\n",
    "            print(\"KEY NOT FOUND IN DATABASE!! ENTER VALID KEY\") \n",
    "        else:\n",
    "            l=[]\n",
    "            l.append(value)\n",
    "            l.append(b[1])\n",
    "            di[key]=l\n"
   ]
  },
  {
   "cell_type": "code",
   "execution_count": null,
   "metadata": {},
   "outputs": [],
   "source": []
  },
  {
   "cell_type": "code",
   "execution_count": null,
   "metadata": {},
   "outputs": [],
   "source": []
  }
 ],
 "metadata": {
  "kernelspec": {
   "display_name": "Python 3",
   "language": "python",
   "name": "python3"
  },
  "language_info": {
   "codemirror_mode": {
    "name": "ipython",
    "version": 3
   },
   "file_extension": ".py",
   "mimetype": "text/x-python",
   "name": "python",
   "nbconvert_exporter": "python",
   "pygments_lexer": "ipython3",
   "version": "3.7.1"
  }
 },
 "nbformat": 4,
 "nbformat_minor": 2
}
